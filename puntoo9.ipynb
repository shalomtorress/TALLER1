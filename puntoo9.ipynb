{
 "cells": [
  {
   "cell_type": "code",
   "execution_count": null,
   "metadata": {},
   "outputs": [],
   "source": []
  },
  {
   "cell_type": "code",
   "execution_count": null,
   "metadata": {},
   "outputs": [],
   "source": [
    "def main():\n",
    "    paises = {\n",
    "        \"argentina\": \"buenos aires\",\n",
    "        \"bolivia\": \"la paz\",\n",
    "        \"brasil\": \"brasilia\",\n",
    "        \"canada\": \"ottawa\",\n",
    "        \"chile\": \"santiago\",\n",
    "        \"colombia\": \"bogotá\",\n",
    "        \"costa rica\": \"san josé\",\n",
    "        \"cuba\": \"la habana\",\n",
    "        \"dominicana\": \"santo domingo\",\n",
    "        \"ecuador\": \"quito\",\n",
    "        \"el salvador\": \"san salvador\",\n",
    "        \"estados unidos\": \"washington dc\",\n",
    "        \"guatemala\": \"ciudad de guatemala\",\n",
    "        \"haití\": \"puerto príncipe\",\n",
    "        \"honduras\": \"tegucigalpa\",\n",
    "        \"mexico\": \"ciudad de méxico\",\n",
    "        \"nicaragua\": \"managua\",\n",
    "        \"panama\": \"ciudad de panamá\",\n",
    "        \"paraguay\": \"asunción\",\n",
    "        \"peru\": \"lima\",\n",
    "        \"república dominicana\": \"santo domingo\",\n",
    "        \"uruguay\": \"montevideo\",\n",
    "        \"venezuela\": \"caracas\",\n",
    "    }\n",
    "    pais = input(\"Introduce el nombre del país en minúsculas: \")\n",
    "    if pais in paises:\n",
    "        capital = paises[pais]\n",
    "        return capital\n",
    "    else:\n",
    "        return \"país no identificado\"\n",
    "if __name__ == \"__main__\":\n",
    "    capital = main()\n",
    "    print(capital)"
   ]
  }
 ],
 "metadata": {
  "kernelspec": {
   "display_name": "Python 3",
   "language": "python",
   "name": "python3"
  },
  "language_info": {
   "name": "python",
   "version": "3.11.5"
  },
  "orig_nbformat": 4
 },
 "nbformat": 4,
 "nbformat_minor": 2
}
