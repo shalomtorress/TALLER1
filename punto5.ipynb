{
 "cells": [
  {
   "cell_type": "code",
   "execution_count": null,
   "metadata": {},
   "outputs": [
    {
     "ename": "",
     "evalue": "",
     "output_type": "error",
     "traceback": [
      "\u001b[1;31mRunning cells with 'c:\\Users\\TORRES-MAZABEK\\AppData\\Local\\Microsoft\\WindowsApps\\python3.11.exe' requires the ipykernel package.\n",
      "\u001b[1;31mRun the following command to install 'ipykernel' into the Python environment. \n",
      "\u001b[1;31mCommand: 'c:/Users/TORRES-MAZABEK/AppData/Local/Microsoft/WindowsApps/python3.11.exe -m pip install ipykernel -U --user --force-reinstall'"
     ]
    }
   ],
   "source": [
    "n1 = float(input(\"ingrese el primer numero \"))\n",
    "n2 = float(input(\"ingrese el segundo numero \"))\n",
    "n3 = float(input(\"ingrese el tercer numero \"))\n",
    "suma= n1 + n2\n",
    "if suma > n3: \n",
    "   print(\"la suma de los dos primeros numeros es mayor que el tercero\")\n",
    "elif suma < n3:\n",
    "   print(\"la suma de los dos primeros numeros es menor que el tercero\") \n",
    "else:\n",
    "   print(\"la suma de los dos prmeros numeros es gual que el tercero\")"
   ]
  }
 ],
 "metadata": {
  "kernelspec": {
   "display_name": "Python 3",
   "language": "python",
   "name": "python3"
  },
  "language_info": {
   "name": "python",
   "version": "3.11.5"
  },
  "orig_nbformat": 4
 },
 "nbformat": 4,
 "nbformat_minor": 2
}
